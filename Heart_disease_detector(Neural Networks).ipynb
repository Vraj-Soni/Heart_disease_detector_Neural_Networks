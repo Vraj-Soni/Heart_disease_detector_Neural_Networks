{
  "nbformat": 4,
  "nbformat_minor": 0,
  "metadata": {
    "colab": {
      "name": "Assignment4.ipynb",
      "provenance": [],
      "collapsed_sections": []
    },
    "kernelspec": {
      "name": "python3",
      "display_name": "Python 3"
    },
    "language_info": {
      "name": "python"
    }
  },
  "cells": [
    {
      "cell_type": "code",
      "execution_count": 7,
      "metadata": {
        "id": "fHOn6OFm-uJP"
      },
      "outputs": [],
      "source": [
        "import numpy\n",
        "from keras.models import Sequential\n",
        "from keras.layers import Dense, Flatten,Dropout,BatchNormalization,Activation\n",
        "from keras.layers.convolutional import Conv2D, MaxPooling2D\n",
        "from keras.constraints import maxnorm\n",
        "from keras.utils import np_utils\n",
        "import pandas as pd\n",
        "import tensorflow as tf"
      ]
    },
    {
      "cell_type": "code",
      "source": [
        "seed = 19"
      ],
      "metadata": {
        "id": "fEkYP0eDAj4E"
      },
      "execution_count": 8,
      "outputs": []
    },
    {
      "cell_type": "code",
      "source": [
        "heart = pd.read_csv('heart_2020_cleaned.csv')"
      ],
      "metadata": {
        "id": "DbqNja6wB_-f"
      },
      "execution_count": 9,
      "outputs": []
    },
    {
      "cell_type": "code",
      "source": [
        "heart.tail()"
      ],
      "metadata": {
        "colab": {
          "base_uri": "https://localhost:8080/",
          "height": 270
        },
        "id": "0IwNNogOCJuH",
        "outputId": "2adfe4b8-ca20-42f3-b118-167dc4a50246"
      },
      "execution_count": 10,
      "outputs": [
        {
          "output_type": "execute_result",
          "data": {
            "text/plain": [
              "          BMI Smoking AlcoholDrinking Stroke  PhysicalHealth  MentalHealth  \\\n",
              "319790  27.41     Yes              No     No               7             0   \n",
              "319791  29.84     Yes              No     No               0             0   \n",
              "319792  24.24      No              No     No               0             0   \n",
              "319793  32.81      No              No     No               0             0   \n",
              "319794  46.56      No              No     No               0             0   \n",
              "\n",
              "       DiffWalking     Sex      Race Diabetic PhysicalActivity  GenHealth  \\\n",
              "319790         Yes    Male  Hispanic      Yes               No       Fair   \n",
              "319791          No    Male  Hispanic       No              Yes  Very good   \n",
              "319792          No  Female  Hispanic       No              Yes       Good   \n",
              "319793          No  Female  Hispanic       No               No       Good   \n",
              "319794          No  Female  Hispanic       No              Yes       Good   \n",
              "\n",
              "        SleepTime Asthma KidneyDisease SkinCancer HeartDisease  \n",
              "319790          6    Yes            No         No          Yes  \n",
              "319791          5    Yes            No         No           No  \n",
              "319792          6     No            No         No           No  \n",
              "319793         12     No            No         No           No  \n",
              "319794          8     No            No         No           No  "
            ],
            "text/html": [
              "\n",
              "  <div id=\"df-7989cce1-24e9-4d5f-be91-bf25a803b86d\">\n",
              "    <div class=\"colab-df-container\">\n",
              "      <div>\n",
              "<style scoped>\n",
              "    .dataframe tbody tr th:only-of-type {\n",
              "        vertical-align: middle;\n",
              "    }\n",
              "\n",
              "    .dataframe tbody tr th {\n",
              "        vertical-align: top;\n",
              "    }\n",
              "\n",
              "    .dataframe thead th {\n",
              "        text-align: right;\n",
              "    }\n",
              "</style>\n",
              "<table border=\"1\" class=\"dataframe\">\n",
              "  <thead>\n",
              "    <tr style=\"text-align: right;\">\n",
              "      <th></th>\n",
              "      <th>BMI</th>\n",
              "      <th>Smoking</th>\n",
              "      <th>AlcoholDrinking</th>\n",
              "      <th>Stroke</th>\n",
              "      <th>PhysicalHealth</th>\n",
              "      <th>MentalHealth</th>\n",
              "      <th>DiffWalking</th>\n",
              "      <th>Sex</th>\n",
              "      <th>Race</th>\n",
              "      <th>Diabetic</th>\n",
              "      <th>PhysicalActivity</th>\n",
              "      <th>GenHealth</th>\n",
              "      <th>SleepTime</th>\n",
              "      <th>Asthma</th>\n",
              "      <th>KidneyDisease</th>\n",
              "      <th>SkinCancer</th>\n",
              "      <th>HeartDisease</th>\n",
              "    </tr>\n",
              "  </thead>\n",
              "  <tbody>\n",
              "    <tr>\n",
              "      <th>319790</th>\n",
              "      <td>27.41</td>\n",
              "      <td>Yes</td>\n",
              "      <td>No</td>\n",
              "      <td>No</td>\n",
              "      <td>7</td>\n",
              "      <td>0</td>\n",
              "      <td>Yes</td>\n",
              "      <td>Male</td>\n",
              "      <td>Hispanic</td>\n",
              "      <td>Yes</td>\n",
              "      <td>No</td>\n",
              "      <td>Fair</td>\n",
              "      <td>6</td>\n",
              "      <td>Yes</td>\n",
              "      <td>No</td>\n",
              "      <td>No</td>\n",
              "      <td>Yes</td>\n",
              "    </tr>\n",
              "    <tr>\n",
              "      <th>319791</th>\n",
              "      <td>29.84</td>\n",
              "      <td>Yes</td>\n",
              "      <td>No</td>\n",
              "      <td>No</td>\n",
              "      <td>0</td>\n",
              "      <td>0</td>\n",
              "      <td>No</td>\n",
              "      <td>Male</td>\n",
              "      <td>Hispanic</td>\n",
              "      <td>No</td>\n",
              "      <td>Yes</td>\n",
              "      <td>Very good</td>\n",
              "      <td>5</td>\n",
              "      <td>Yes</td>\n",
              "      <td>No</td>\n",
              "      <td>No</td>\n",
              "      <td>No</td>\n",
              "    </tr>\n",
              "    <tr>\n",
              "      <th>319792</th>\n",
              "      <td>24.24</td>\n",
              "      <td>No</td>\n",
              "      <td>No</td>\n",
              "      <td>No</td>\n",
              "      <td>0</td>\n",
              "      <td>0</td>\n",
              "      <td>No</td>\n",
              "      <td>Female</td>\n",
              "      <td>Hispanic</td>\n",
              "      <td>No</td>\n",
              "      <td>Yes</td>\n",
              "      <td>Good</td>\n",
              "      <td>6</td>\n",
              "      <td>No</td>\n",
              "      <td>No</td>\n",
              "      <td>No</td>\n",
              "      <td>No</td>\n",
              "    </tr>\n",
              "    <tr>\n",
              "      <th>319793</th>\n",
              "      <td>32.81</td>\n",
              "      <td>No</td>\n",
              "      <td>No</td>\n",
              "      <td>No</td>\n",
              "      <td>0</td>\n",
              "      <td>0</td>\n",
              "      <td>No</td>\n",
              "      <td>Female</td>\n",
              "      <td>Hispanic</td>\n",
              "      <td>No</td>\n",
              "      <td>No</td>\n",
              "      <td>Good</td>\n",
              "      <td>12</td>\n",
              "      <td>No</td>\n",
              "      <td>No</td>\n",
              "      <td>No</td>\n",
              "      <td>No</td>\n",
              "    </tr>\n",
              "    <tr>\n",
              "      <th>319794</th>\n",
              "      <td>46.56</td>\n",
              "      <td>No</td>\n",
              "      <td>No</td>\n",
              "      <td>No</td>\n",
              "      <td>0</td>\n",
              "      <td>0</td>\n",
              "      <td>No</td>\n",
              "      <td>Female</td>\n",
              "      <td>Hispanic</td>\n",
              "      <td>No</td>\n",
              "      <td>Yes</td>\n",
              "      <td>Good</td>\n",
              "      <td>8</td>\n",
              "      <td>No</td>\n",
              "      <td>No</td>\n",
              "      <td>No</td>\n",
              "      <td>No</td>\n",
              "    </tr>\n",
              "  </tbody>\n",
              "</table>\n",
              "</div>\n",
              "      <button class=\"colab-df-convert\" onclick=\"convertToInteractive('df-7989cce1-24e9-4d5f-be91-bf25a803b86d')\"\n",
              "              title=\"Convert this dataframe to an interactive table.\"\n",
              "              style=\"display:none;\">\n",
              "        \n",
              "  <svg xmlns=\"http://www.w3.org/2000/svg\" height=\"24px\"viewBox=\"0 0 24 24\"\n",
              "       width=\"24px\">\n",
              "    <path d=\"M0 0h24v24H0V0z\" fill=\"none\"/>\n",
              "    <path d=\"M18.56 5.44l.94 2.06.94-2.06 2.06-.94-2.06-.94-.94-2.06-.94 2.06-2.06.94zm-11 1L8.5 8.5l.94-2.06 2.06-.94-2.06-.94L8.5 2.5l-.94 2.06-2.06.94zm10 10l.94 2.06.94-2.06 2.06-.94-2.06-.94-.94-2.06-.94 2.06-2.06.94z\"/><path d=\"M17.41 7.96l-1.37-1.37c-.4-.4-.92-.59-1.43-.59-.52 0-1.04.2-1.43.59L10.3 9.45l-7.72 7.72c-.78.78-.78 2.05 0 2.83L4 21.41c.39.39.9.59 1.41.59.51 0 1.02-.2 1.41-.59l7.78-7.78 2.81-2.81c.8-.78.8-2.07 0-2.86zM5.41 20L4 18.59l7.72-7.72 1.47 1.35L5.41 20z\"/>\n",
              "  </svg>\n",
              "      </button>\n",
              "      \n",
              "  <style>\n",
              "    .colab-df-container {\n",
              "      display:flex;\n",
              "      flex-wrap:wrap;\n",
              "      gap: 12px;\n",
              "    }\n",
              "\n",
              "    .colab-df-convert {\n",
              "      background-color: #E8F0FE;\n",
              "      border: none;\n",
              "      border-radius: 50%;\n",
              "      cursor: pointer;\n",
              "      display: none;\n",
              "      fill: #1967D2;\n",
              "      height: 32px;\n",
              "      padding: 0 0 0 0;\n",
              "      width: 32px;\n",
              "    }\n",
              "\n",
              "    .colab-df-convert:hover {\n",
              "      background-color: #E2EBFA;\n",
              "      box-shadow: 0px 1px 2px rgba(60, 64, 67, 0.3), 0px 1px 3px 1px rgba(60, 64, 67, 0.15);\n",
              "      fill: #174EA6;\n",
              "    }\n",
              "\n",
              "    [theme=dark] .colab-df-convert {\n",
              "      background-color: #3B4455;\n",
              "      fill: #D2E3FC;\n",
              "    }\n",
              "\n",
              "    [theme=dark] .colab-df-convert:hover {\n",
              "      background-color: #434B5C;\n",
              "      box-shadow: 0px 1px 3px 1px rgba(0, 0, 0, 0.15);\n",
              "      filter: drop-shadow(0px 1px 2px rgba(0, 0, 0, 0.3));\n",
              "      fill: #FFFFFF;\n",
              "    }\n",
              "  </style>\n",
              "\n",
              "      <script>\n",
              "        const buttonEl =\n",
              "          document.querySelector('#df-7989cce1-24e9-4d5f-be91-bf25a803b86d button.colab-df-convert');\n",
              "        buttonEl.style.display =\n",
              "          google.colab.kernel.accessAllowed ? 'block' : 'none';\n",
              "\n",
              "        async function convertToInteractive(key) {\n",
              "          const element = document.querySelector('#df-7989cce1-24e9-4d5f-be91-bf25a803b86d');\n",
              "          const dataTable =\n",
              "            await google.colab.kernel.invokeFunction('convertToInteractive',\n",
              "                                                     [key], {});\n",
              "          if (!dataTable) return;\n",
              "\n",
              "          const docLinkHtml = 'Like what you see? Visit the ' +\n",
              "            '<a target=\"_blank\" href=https://colab.research.google.com/notebooks/data_table.ipynb>data table notebook</a>'\n",
              "            + ' to learn more about interactive tables.';\n",
              "          element.innerHTML = '';\n",
              "          dataTable['output_type'] = 'display_data';\n",
              "          await google.colab.output.renderOutput(dataTable, element);\n",
              "          const docLink = document.createElement('div');\n",
              "          docLink.innerHTML = docLinkHtml;\n",
              "          element.appendChild(docLink);\n",
              "        }\n",
              "      </script>\n",
              "    </div>\n",
              "  </div>\n",
              "  "
            ]
          },
          "metadata": {},
          "execution_count": 10
        }
      ]
    },
    {
      "cell_type": "code",
      "source": [
        "heart['Smoking'] = heart['Smoking'].map({'No' : 0, 'Yes' : 1})\n",
        "heart['AlcoholDrinking'] = heart['AlcoholDrinking'].map({'No' : 0, 'Yes' : 1})\n",
        "heart['Stroke'] = heart['Stroke'].map({'No' : 0, 'Yes' : 1})\n",
        "heart['DiffWalking'] = heart['DiffWalking'].map({'No' : 0, 'Yes' : 1})\n",
        "heart['Sex'] = heart['Sex'].map({'Female' : 0, 'Male' : 1})\n",
        "heart['Race'] = heart['Race'].map({'White' : 0, 'Black' : 1})\n",
        "heart['Diabetic'] = heart['Diabetic'].map({'No' : 0, 'Yes' : 1 , 'No, borderline diabetes' : 2})\n",
        "heart['PhysicalActivity'] = heart['PhysicalActivity'].map({'No' : 0, 'Yes' : 1})\n",
        "heart['GenHealth'] = heart['GenHealth'].map({'Poor' : 0, 'Fair' : 1 , 'Good' : 2 , 'Very good' : 3})\n",
        "heart['Asthma'] = heart['Asthma'].map({'No' : 0, 'Yes' : 1})\n",
        "heart['KidneyDisease'] = heart['KidneyDisease'].map({'No' : 0, 'Yes' : 1})\n",
        "heart['SkinCancer'] = heart['SkinCancer'].map({'No' : 0, 'Yes' : 1})\n",
        "heart['HeartDisease'] = heart['HeartDisease'].map({'No' : 0, 'Yes' : 1})"
      ],
      "metadata": {
        "id": "OSeWFfDuJwt7"
      },
      "execution_count": 11,
      "outputs": []
    },
    {
      "cell_type": "code",
      "source": [
        "heart.head()"
      ],
      "metadata": {
        "colab": {
          "base_uri": "https://localhost:8080/",
          "height": 270
        },
        "id": "ISC1cuieKMM3",
        "outputId": "8cb617e4-03b3-4841-c59f-daf9c820eb86"
      },
      "execution_count": 12,
      "outputs": [
        {
          "output_type": "execute_result",
          "data": {
            "text/plain": [
              "     BMI  Smoking  AlcoholDrinking  Stroke  PhysicalHealth  MentalHealth  \\\n",
              "0  16.60        1                0       0               3            30   \n",
              "1  20.34        0                0       1               0             0   \n",
              "2  26.58        1                0       0              20            30   \n",
              "3  24.21        0                0       0               0             0   \n",
              "4  23.71        0                0       0              28             0   \n",
              "\n",
              "   DiffWalking  Sex  Race  Diabetic  PhysicalActivity  GenHealth  SleepTime  \\\n",
              "0            0    0   0.0       1.0                 1        3.0          5   \n",
              "1            0    0   0.0       0.0                 1        3.0          7   \n",
              "2            0    1   0.0       1.0                 1        1.0          8   \n",
              "3            0    0   0.0       0.0                 0        2.0          6   \n",
              "4            1    0   0.0       0.0                 1        3.0          8   \n",
              "\n",
              "   Asthma  KidneyDisease  SkinCancer  HeartDisease  \n",
              "0       1              0           1             0  \n",
              "1       0              0           0             0  \n",
              "2       1              0           0             0  \n",
              "3       0              0           1             0  \n",
              "4       0              0           0             0  "
            ],
            "text/html": [
              "\n",
              "  <div id=\"df-d8833d30-1c2d-4fcf-bca1-057e675714c5\">\n",
              "    <div class=\"colab-df-container\">\n",
              "      <div>\n",
              "<style scoped>\n",
              "    .dataframe tbody tr th:only-of-type {\n",
              "        vertical-align: middle;\n",
              "    }\n",
              "\n",
              "    .dataframe tbody tr th {\n",
              "        vertical-align: top;\n",
              "    }\n",
              "\n",
              "    .dataframe thead th {\n",
              "        text-align: right;\n",
              "    }\n",
              "</style>\n",
              "<table border=\"1\" class=\"dataframe\">\n",
              "  <thead>\n",
              "    <tr style=\"text-align: right;\">\n",
              "      <th></th>\n",
              "      <th>BMI</th>\n",
              "      <th>Smoking</th>\n",
              "      <th>AlcoholDrinking</th>\n",
              "      <th>Stroke</th>\n",
              "      <th>PhysicalHealth</th>\n",
              "      <th>MentalHealth</th>\n",
              "      <th>DiffWalking</th>\n",
              "      <th>Sex</th>\n",
              "      <th>Race</th>\n",
              "      <th>Diabetic</th>\n",
              "      <th>PhysicalActivity</th>\n",
              "      <th>GenHealth</th>\n",
              "      <th>SleepTime</th>\n",
              "      <th>Asthma</th>\n",
              "      <th>KidneyDisease</th>\n",
              "      <th>SkinCancer</th>\n",
              "      <th>HeartDisease</th>\n",
              "    </tr>\n",
              "  </thead>\n",
              "  <tbody>\n",
              "    <tr>\n",
              "      <th>0</th>\n",
              "      <td>16.60</td>\n",
              "      <td>1</td>\n",
              "      <td>0</td>\n",
              "      <td>0</td>\n",
              "      <td>3</td>\n",
              "      <td>30</td>\n",
              "      <td>0</td>\n",
              "      <td>0</td>\n",
              "      <td>0.0</td>\n",
              "      <td>1.0</td>\n",
              "      <td>1</td>\n",
              "      <td>3.0</td>\n",
              "      <td>5</td>\n",
              "      <td>1</td>\n",
              "      <td>0</td>\n",
              "      <td>1</td>\n",
              "      <td>0</td>\n",
              "    </tr>\n",
              "    <tr>\n",
              "      <th>1</th>\n",
              "      <td>20.34</td>\n",
              "      <td>0</td>\n",
              "      <td>0</td>\n",
              "      <td>1</td>\n",
              "      <td>0</td>\n",
              "      <td>0</td>\n",
              "      <td>0</td>\n",
              "      <td>0</td>\n",
              "      <td>0.0</td>\n",
              "      <td>0.0</td>\n",
              "      <td>1</td>\n",
              "      <td>3.0</td>\n",
              "      <td>7</td>\n",
              "      <td>0</td>\n",
              "      <td>0</td>\n",
              "      <td>0</td>\n",
              "      <td>0</td>\n",
              "    </tr>\n",
              "    <tr>\n",
              "      <th>2</th>\n",
              "      <td>26.58</td>\n",
              "      <td>1</td>\n",
              "      <td>0</td>\n",
              "      <td>0</td>\n",
              "      <td>20</td>\n",
              "      <td>30</td>\n",
              "      <td>0</td>\n",
              "      <td>1</td>\n",
              "      <td>0.0</td>\n",
              "      <td>1.0</td>\n",
              "      <td>1</td>\n",
              "      <td>1.0</td>\n",
              "      <td>8</td>\n",
              "      <td>1</td>\n",
              "      <td>0</td>\n",
              "      <td>0</td>\n",
              "      <td>0</td>\n",
              "    </tr>\n",
              "    <tr>\n",
              "      <th>3</th>\n",
              "      <td>24.21</td>\n",
              "      <td>0</td>\n",
              "      <td>0</td>\n",
              "      <td>0</td>\n",
              "      <td>0</td>\n",
              "      <td>0</td>\n",
              "      <td>0</td>\n",
              "      <td>0</td>\n",
              "      <td>0.0</td>\n",
              "      <td>0.0</td>\n",
              "      <td>0</td>\n",
              "      <td>2.0</td>\n",
              "      <td>6</td>\n",
              "      <td>0</td>\n",
              "      <td>0</td>\n",
              "      <td>1</td>\n",
              "      <td>0</td>\n",
              "    </tr>\n",
              "    <tr>\n",
              "      <th>4</th>\n",
              "      <td>23.71</td>\n",
              "      <td>0</td>\n",
              "      <td>0</td>\n",
              "      <td>0</td>\n",
              "      <td>28</td>\n",
              "      <td>0</td>\n",
              "      <td>1</td>\n",
              "      <td>0</td>\n",
              "      <td>0.0</td>\n",
              "      <td>0.0</td>\n",
              "      <td>1</td>\n",
              "      <td>3.0</td>\n",
              "      <td>8</td>\n",
              "      <td>0</td>\n",
              "      <td>0</td>\n",
              "      <td>0</td>\n",
              "      <td>0</td>\n",
              "    </tr>\n",
              "  </tbody>\n",
              "</table>\n",
              "</div>\n",
              "      <button class=\"colab-df-convert\" onclick=\"convertToInteractive('df-d8833d30-1c2d-4fcf-bca1-057e675714c5')\"\n",
              "              title=\"Convert this dataframe to an interactive table.\"\n",
              "              style=\"display:none;\">\n",
              "        \n",
              "  <svg xmlns=\"http://www.w3.org/2000/svg\" height=\"24px\"viewBox=\"0 0 24 24\"\n",
              "       width=\"24px\">\n",
              "    <path d=\"M0 0h24v24H0V0z\" fill=\"none\"/>\n",
              "    <path d=\"M18.56 5.44l.94 2.06.94-2.06 2.06-.94-2.06-.94-.94-2.06-.94 2.06-2.06.94zm-11 1L8.5 8.5l.94-2.06 2.06-.94-2.06-.94L8.5 2.5l-.94 2.06-2.06.94zm10 10l.94 2.06.94-2.06 2.06-.94-2.06-.94-.94-2.06-.94 2.06-2.06.94z\"/><path d=\"M17.41 7.96l-1.37-1.37c-.4-.4-.92-.59-1.43-.59-.52 0-1.04.2-1.43.59L10.3 9.45l-7.72 7.72c-.78.78-.78 2.05 0 2.83L4 21.41c.39.39.9.59 1.41.59.51 0 1.02-.2 1.41-.59l7.78-7.78 2.81-2.81c.8-.78.8-2.07 0-2.86zM5.41 20L4 18.59l7.72-7.72 1.47 1.35L5.41 20z\"/>\n",
              "  </svg>\n",
              "      </button>\n",
              "      \n",
              "  <style>\n",
              "    .colab-df-container {\n",
              "      display:flex;\n",
              "      flex-wrap:wrap;\n",
              "      gap: 12px;\n",
              "    }\n",
              "\n",
              "    .colab-df-convert {\n",
              "      background-color: #E8F0FE;\n",
              "      border: none;\n",
              "      border-radius: 50%;\n",
              "      cursor: pointer;\n",
              "      display: none;\n",
              "      fill: #1967D2;\n",
              "      height: 32px;\n",
              "      padding: 0 0 0 0;\n",
              "      width: 32px;\n",
              "    }\n",
              "\n",
              "    .colab-df-convert:hover {\n",
              "      background-color: #E2EBFA;\n",
              "      box-shadow: 0px 1px 2px rgba(60, 64, 67, 0.3), 0px 1px 3px 1px rgba(60, 64, 67, 0.15);\n",
              "      fill: #174EA6;\n",
              "    }\n",
              "\n",
              "    [theme=dark] .colab-df-convert {\n",
              "      background-color: #3B4455;\n",
              "      fill: #D2E3FC;\n",
              "    }\n",
              "\n",
              "    [theme=dark] .colab-df-convert:hover {\n",
              "      background-color: #434B5C;\n",
              "      box-shadow: 0px 1px 3px 1px rgba(0, 0, 0, 0.15);\n",
              "      filter: drop-shadow(0px 1px 2px rgba(0, 0, 0, 0.3));\n",
              "      fill: #FFFFFF;\n",
              "    }\n",
              "  </style>\n",
              "\n",
              "      <script>\n",
              "        const buttonEl =\n",
              "          document.querySelector('#df-d8833d30-1c2d-4fcf-bca1-057e675714c5 button.colab-df-convert');\n",
              "        buttonEl.style.display =\n",
              "          google.colab.kernel.accessAllowed ? 'block' : 'none';\n",
              "\n",
              "        async function convertToInteractive(key) {\n",
              "          const element = document.querySelector('#df-d8833d30-1c2d-4fcf-bca1-057e675714c5');\n",
              "          const dataTable =\n",
              "            await google.colab.kernel.invokeFunction('convertToInteractive',\n",
              "                                                     [key], {});\n",
              "          if (!dataTable) return;\n",
              "\n",
              "          const docLinkHtml = 'Like what you see? Visit the ' +\n",
              "            '<a target=\"_blank\" href=https://colab.research.google.com/notebooks/data_table.ipynb>data table notebook</a>'\n",
              "            + ' to learn more about interactive tables.';\n",
              "          element.innerHTML = '';\n",
              "          dataTable['output_type'] = 'display_data';\n",
              "          await google.colab.output.renderOutput(dataTable, element);\n",
              "          const docLink = document.createElement('div');\n",
              "          docLink.innerHTML = docLinkHtml;\n",
              "          element.appendChild(docLink);\n",
              "        }\n",
              "      </script>\n",
              "    </div>\n",
              "  </div>\n",
              "  "
            ]
          },
          "metadata": {},
          "execution_count": 12
        }
      ]
    },
    {
      "cell_type": "code",
      "source": [
        "x = heart.iloc[:,0:16].values\n",
        "x"
      ],
      "metadata": {
        "colab": {
          "base_uri": "https://localhost:8080/"
        },
        "id": "RS0MdtI4KOYr",
        "outputId": "e51fc86f-5399-4529-c786-c98a18d99682"
      },
      "execution_count": 13,
      "outputs": [
        {
          "output_type": "execute_result",
          "data": {
            "text/plain": [
              "array([[16.6 ,  1.  ,  0.  , ...,  1.  ,  0.  ,  1.  ],\n",
              "       [20.34,  0.  ,  0.  , ...,  0.  ,  0.  ,  0.  ],\n",
              "       [26.58,  1.  ,  0.  , ...,  1.  ,  0.  ,  0.  ],\n",
              "       ...,\n",
              "       [24.24,  0.  ,  0.  , ...,  0.  ,  0.  ,  0.  ],\n",
              "       [32.81,  0.  ,  0.  , ...,  0.  ,  0.  ,  0.  ],\n",
              "       [46.56,  0.  ,  0.  , ...,  0.  ,  0.  ,  0.  ]])"
            ]
          },
          "metadata": {},
          "execution_count": 13
        }
      ]
    },
    {
      "cell_type": "code",
      "source": [
        "y = heart.iloc[:,-1].values\n",
        "y"
      ],
      "metadata": {
        "colab": {
          "base_uri": "https://localhost:8080/"
        },
        "id": "J0rzO-iULyX-",
        "outputId": "9dbb4c50-3dab-48f2-8960-ce8b06c36cfa"
      },
      "execution_count": 14,
      "outputs": [
        {
          "output_type": "execute_result",
          "data": {
            "text/plain": [
              "array([0, 0, 0, ..., 0, 0, 0])"
            ]
          },
          "metadata": {},
          "execution_count": 14
        }
      ]
    },
    {
      "cell_type": "code",
      "source": [
        "from sklearn.model_selection import train_test_split\n",
        "x_train,x_test,y_train,y_test=train_test_split(x,y,test_size=0.2,random_state=123)"
      ],
      "metadata": {
        "id": "4D2aO_dMMFi4"
      },
      "execution_count": 15,
      "outputs": []
    },
    {
      "cell_type": "code",
      "source": [
        "x_train[0:5]"
      ],
      "metadata": {
        "colab": {
          "base_uri": "https://localhost:8080/"
        },
        "id": "wRUf4uqDMLSw",
        "outputId": "f9976c34-58b2-45a7-81f4-aae15f300e68"
      },
      "execution_count": 16,
      "outputs": [
        {
          "output_type": "execute_result",
          "data": {
            "text/plain": [
              "array([[29.29,  0.  ,  0.  ,  0.  ,  0.  ,  0.  ,  0.  ,  1.  ,  1.  ,\n",
              "         0.  ,  1.  ,  2.  ,  6.  ,  0.  ,  0.  ,  0.  ],\n",
              "       [24.51,  1.  ,  0.  ,  0.  , 30.  ,  2.  ,  0.  ,  0.  ,  0.  ,\n",
              "         1.  ,  0.  ,  2.  ,  8.  ,  0.  ,  0.  ,  1.  ],\n",
              "       [24.48,  0.  ,  0.  ,  0.  , 13.  , 15.  ,  0.  ,  1.  ,  1.  ,\n",
              "         0.  ,  0.  ,  1.  ,  3.  ,  0.  ,  1.  ,  0.  ],\n",
              "       [19.77,  1.  ,  0.  ,  0.  ,  0.  ,  3.  ,  0.  ,  0.  ,  0.  ,\n",
              "         0.  ,  1.  ,  3.  ,  8.  ,  0.  ,  0.  ,  1.  ],\n",
              "       [26.58,  0.  ,  0.  ,  0.  ,  0.  ,  3.  ,  0.  ,  0.  ,  0.  ,\n",
              "         0.  ,  1.  ,  3.  ,  7.  ,  0.  ,  0.  ,  0.  ]])"
            ]
          },
          "metadata": {},
          "execution_count": 16
        }
      ]
    },
    {
      "cell_type": "code",
      "source": [
        "x_test[0:5]"
      ],
      "metadata": {
        "colab": {
          "base_uri": "https://localhost:8080/"
        },
        "id": "tVvYrVHiMNBz",
        "outputId": "4504aa64-0e33-4f7e-8ee7-9ec89b0f39a5"
      },
      "execution_count": 17,
      "outputs": [
        {
          "output_type": "execute_result",
          "data": {
            "text/plain": [
              "array([[37.76,  1.  ,  0.  ,  0.  ,  0.  ,  0.  ,  0.  ,  0.  ,  0.  ,\n",
              "         0.  ,  1.  ,  2.  ,  6.  ,  0.  ,  0.  ,  0.  ],\n",
              "       [37.31,  0.  ,  0.  ,  0.  ,  3.  ,  0.  ,  0.  ,  0.  ,  1.  ,\n",
              "         0.  ,  0.  ,  3.  ,  6.  ,  1.  ,  0.  ,  0.  ],\n",
              "       [23.83,  0.  ,  0.  ,  0.  , 10.  , 23.  ,  0.  ,  0.  ,  0.  ,\n",
              "         0.  ,  1.  ,  3.  ,  6.  ,  1.  ,  0.  ,  0.  ],\n",
              "       [24.19,  0.  ,  0.  ,  0.  ,  0.  ,  0.  ,  0.  ,  0.  ,   nan,\n",
              "         1.  ,  1.  ,  1.  ,  6.  ,  0.  ,  0.  ,  0.  ],\n",
              "       [27.32,  1.  ,  0.  ,  0.  ,  0.  ,  0.  ,  0.  ,  1.  ,  0.  ,\n",
              "         0.  ,  0.  ,  2.  ,  7.  ,  0.  ,  0.  ,  0.  ]])"
            ]
          },
          "metadata": {},
          "execution_count": 17
        }
      ]
    },
    {
      "cell_type": "code",
      "source": [
        "y_train[0:5]"
      ],
      "metadata": {
        "colab": {
          "base_uri": "https://localhost:8080/"
        },
        "id": "C86R-BD8MRYx",
        "outputId": "702f5367-cb4a-4751-d230-c0f623b45981"
      },
      "execution_count": 18,
      "outputs": [
        {
          "output_type": "execute_result",
          "data": {
            "text/plain": [
              "array([0, 0, 0, 0, 0])"
            ]
          },
          "metadata": {},
          "execution_count": 18
        }
      ]
    },
    {
      "cell_type": "code",
      "source": [
        "y_test[0:5]"
      ],
      "metadata": {
        "colab": {
          "base_uri": "https://localhost:8080/"
        },
        "id": "RAYoNdqQMUJg",
        "outputId": "b2a5d7b2-aa4f-443d-c800-f34ee80ed148"
      },
      "execution_count": 19,
      "outputs": [
        {
          "output_type": "execute_result",
          "data": {
            "text/plain": [
              "array([0, 0, 0, 0, 0])"
            ]
          },
          "metadata": {},
          "execution_count": 19
        }
      ]
    },
    {
      "cell_type": "code",
      "source": [
        "len(x_test)\n"
      ],
      "metadata": {
        "colab": {
          "base_uri": "https://localhost:8080/"
        },
        "id": "F7vmUloSMVvh",
        "outputId": "da9b1751-9c04-4f3e-e468-cbfab0cb59b3"
      },
      "execution_count": 20,
      "outputs": [
        {
          "output_type": "execute_result",
          "data": {
            "text/plain": [
              "63959"
            ]
          },
          "metadata": {},
          "execution_count": 20
        }
      ]
    },
    {
      "cell_type": "code",
      "source": [
        "len(x_train)"
      ],
      "metadata": {
        "colab": {
          "base_uri": "https://localhost:8080/"
        },
        "id": "OfiKWlwGMmme",
        "outputId": "c3053fcf-1931-4521-d658-01219a6578d2"
      },
      "execution_count": 21,
      "outputs": [
        {
          "output_type": "execute_result",
          "data": {
            "text/plain": [
              "255836"
            ]
          },
          "metadata": {},
          "execution_count": 21
        }
      ]
    },
    {
      "cell_type": "code",
      "source": [
        "x_train.shape"
      ],
      "metadata": {
        "colab": {
          "base_uri": "https://localhost:8080/"
        },
        "id": "-O9ti-eBMo2z",
        "outputId": "11200aa3-62f4-448d-e58a-90e74e9177a0"
      },
      "execution_count": 22,
      "outputs": [
        {
          "output_type": "execute_result",
          "data": {
            "text/plain": [
              "(255836, 16)"
            ]
          },
          "metadata": {},
          "execution_count": 22
        }
      ]
    },
    {
      "cell_type": "code",
      "source": [
        "from tensorflow.keras.utils import to_categorical\n",
        "\n",
        "one_hot_train_labels = to_categorical(y_train)\n",
        "one_hot_test_labels = to_categorical(y_test)"
      ],
      "metadata": {
        "id": "4uaBPZ3RMsKD"
      },
      "execution_count": 23,
      "outputs": []
    },
    {
      "cell_type": "code",
      "source": [
        "from keras import models\n",
        "from keras import layers\n",
        "\n",
        "model = models.Sequential()\n",
        "model.add(layers.Dense(100, activation='relu', input_shape=(16,)))\n",
        "model.add(layers.Dense(100, activation='relu'))\n",
        "model.add(layers.Dropout(0.5))\n",
        "model.add(layers.Dense(200, activation='relu'))\n",
        "model.add(layers.Dense(2, activation='sigmoid'))"
      ],
      "metadata": {
        "id": "LO_MduBgMvPe"
      },
      "execution_count": 33,
      "outputs": []
    },
    {
      "cell_type": "code",
      "source": [
        "model.compile(optimizer='adam',\n",
        "              loss='categorical_crossentropy',\n",
        "              metrics=['accuracy'])"
      ],
      "metadata": {
        "id": "StuUcG5qM6_O"
      },
      "execution_count": 34,
      "outputs": []
    },
    {
      "cell_type": "code",
      "source": [
        "model.summary()\n"
      ],
      "metadata": {
        "colab": {
          "base_uri": "https://localhost:8080/"
        },
        "id": "7E98IvQLM-CR",
        "outputId": "9dddf932-e7fd-46ab-b049-26fe9df06f09"
      },
      "execution_count": 35,
      "outputs": [
        {
          "output_type": "stream",
          "name": "stdout",
          "text": [
            "Model: \"sequential_1\"\n",
            "_________________________________________________________________\n",
            " Layer (type)                Output Shape              Param #   \n",
            "=================================================================\n",
            " dense_4 (Dense)             (None, 100)               1700      \n",
            "                                                                 \n",
            " dense_5 (Dense)             (None, 100)               10100     \n",
            "                                                                 \n",
            " dropout (Dropout)           (None, 100)               0         \n",
            "                                                                 \n",
            " dense_6 (Dense)             (None, 200)               20200     \n",
            "                                                                 \n",
            " dense_7 (Dense)             (None, 2)                 402       \n",
            "                                                                 \n",
            "=================================================================\n",
            "Total params: 32,402\n",
            "Trainable params: 32,402\n",
            "Non-trainable params: 0\n",
            "_________________________________________________________________\n"
          ]
        }
      ]
    },
    {
      "cell_type": "code",
      "source": [
        "class CustomCallback(tf.keras.callbacks.Callback):\n",
        "  def on_epoch_end(self, epoch, logs={}):\n",
        "    if(epoch % 5 ==0):\n",
        "      print(\" Finished epoch #\",epoch)\n",
        "      print('Accuracy resched train is',logs.get('accuracy'))\n",
        "      print('Accuracy reached val is',logs.get('val_accuracy'))\n",
        "      print()\n",
        "      return"
      ],
      "metadata": {
        "id": "mrXvo5wnOHBB"
      },
      "execution_count": 36,
      "outputs": []
    },
    {
      "cell_type": "code",
      "source": [
        "cc=CustomCallback()\n"
      ],
      "metadata": {
        "id": "WDLFxhhnOIT9"
      },
      "execution_count": 37,
      "outputs": []
    },
    {
      "cell_type": "code",
      "source": [
        "history = model.fit(x_train, \n",
        "                    one_hot_train_labels, \n",
        "                    epochs=50, \n",
        "                    batch_size=256,\n",
        "                    verbose=0,\n",
        "                    validation_data=(x_test,one_hot_test_labels),\n",
        "                    callbacks=[cc])"
      ],
      "metadata": {
        "colab": {
          "base_uri": "https://localhost:8080/"
        },
        "id": "Drym7VXeOXSU",
        "outputId": "fe28bd3c-72c2-49cd-8d7b-309241d02a1b"
      },
      "execution_count": 38,
      "outputs": [
        {
          "output_type": "stream",
          "name": "stdout",
          "text": [
            " Finished epoch # 0\n",
            "Accuracy resched train is 0.9150432348251343\n",
            "Accuracy reached val is 0.9116465449333191\n",
            "\n",
            " Finished epoch # 5\n",
            "Accuracy resched train is 0.9150940179824829\n",
            "Accuracy reached val is 0.9116465449333191\n",
            "\n",
            " Finished epoch # 10\n",
            "Accuracy resched train is 0.9150940179824829\n",
            "Accuracy reached val is 0.9116465449333191\n",
            "\n",
            " Finished epoch # 15\n",
            "Accuracy resched train is 0.9150940179824829\n",
            "Accuracy reached val is 0.9116465449333191\n",
            "\n",
            " Finished epoch # 20\n",
            "Accuracy resched train is 0.9150940179824829\n",
            "Accuracy reached val is 0.9116465449333191\n",
            "\n",
            " Finished epoch # 25\n",
            "Accuracy resched train is 0.9150940179824829\n",
            "Accuracy reached val is 0.9116465449333191\n",
            "\n",
            " Finished epoch # 30\n",
            "Accuracy resched train is 0.9150940179824829\n",
            "Accuracy reached val is 0.9116465449333191\n",
            "\n",
            " Finished epoch # 35\n",
            "Accuracy resched train is 0.9150940179824829\n",
            "Accuracy reached val is 0.9116465449333191\n",
            "\n",
            " Finished epoch # 40\n",
            "Accuracy resched train is 0.9150940179824829\n",
            "Accuracy reached val is 0.9116465449333191\n",
            "\n",
            " Finished epoch # 45\n",
            "Accuracy resched train is 0.9150940179824829\n",
            "Accuracy reached val is 0.9116465449333191\n",
            "\n"
          ]
        }
      ]
    },
    {
      "cell_type": "code",
      "source": [
        "test_loss, test_acc = model.evaluate(x_test, one_hot_test_labels)\n",
        "\n",
        "print('test_acc:', test_acc)\n",
        "print('test_loss:', test_loss)"
      ],
      "metadata": {
        "colab": {
          "base_uri": "https://localhost:8080/"
        },
        "id": "ez71l2lrPIB1",
        "outputId": "ba42367f-4300-42bf-c6e2-14eae7ea50b3"
      },
      "execution_count": 40,
      "outputs": [
        {
          "output_type": "stream",
          "name": "stdout",
          "text": [
            "1999/1999 [==============================] - 3s 1ms/step - loss: nan - accuracy: 0.9116\n",
            "test_acc: 0.9116465449333191\n",
            "test_loss: nan\n"
          ]
        }
      ]
    },
    {
      "cell_type": "code",
      "source": [
        ""
      ],
      "metadata": {
        "id": "Y90ffhZ4PJrl"
      },
      "execution_count": 32,
      "outputs": []
    }
  ]
}